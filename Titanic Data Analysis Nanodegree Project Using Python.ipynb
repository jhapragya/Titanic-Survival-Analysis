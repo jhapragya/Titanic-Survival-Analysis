{
 "cells": [
  {
   "cell_type": "markdown",
   "metadata": {},
   "source": [
    "As a part of Data Analysis Nanodegree Udacity Project,I will do the data analysis on the Titanic Data orginally obtained from the Kaggle website.\n",
    "Titanic Data - Contains demographics and passenger information from 891 of the 2224 passengers and crew on board the Titanic.\n",
    "I shall try to find out the factors that made the survival chances better for the passengers. \n",
    "The three major questions in my analysis are:\n",
    "1)If women and children were actually given preference?\n",
    "2)Was the preference also given on the basis of class(1 being the top class with the maximum fare?\n",
    "3)Were men of 1st class was given more preference than women of lower classes?\n",
    "4)Was the survival rate of families better than people who were travelling alone?\n",
    "\n",
    "For my investigation, I shall use numpy, pandas, matplotlib and seaborn. So the first step would be to import those libraries."
   ]
  },
  {
   "cell_type": "code",
   "execution_count": 72,
   "metadata": {
    "collapsed": true
   },
   "outputs": [],
   "source": [
    "# Import libraries\n",
    "import numpy as np\n",
    "import pandas as pd\n",
    "import matplotlib.pyplot as plt\n",
    "import seaborn as sns\n",
    "\n",
    "# Set style for all graphs\n",
    "sns.set(style=\"whitegrid\")\n",
    "\n",
    "# Render plots inline\n",
    "%matplotlib inline"
   ]
  },
  {
   "cell_type": "markdown",
   "metadata": {},
   "source": [
    "The below two steps are 1)Read the file and 2)check whether the right file has been loaded successfully."
   ]
  },
  {
   "cell_type": "code",
   "execution_count": 73,
   "metadata": {
    "collapsed": true
   },
   "outputs": [],
   "source": [
    "# Read in the dataset, create dataframe\n",
    "Titanic_df = pd.read_csv('train.csv')"
   ]
  },
  {
   "cell_type": "code",
   "execution_count": 74,
   "metadata": {},
   "outputs": [
    {
     "data": {
      "text/html": [
       "<div>\n",
       "<style>\n",
       "    .dataframe thead tr:only-child th {\n",
       "        text-align: right;\n",
       "    }\n",
       "\n",
       "    .dataframe thead th {\n",
       "        text-align: left;\n",
       "    }\n",
       "\n",
       "    .dataframe tbody tr th {\n",
       "        vertical-align: top;\n",
       "    }\n",
       "</style>\n",
       "<table border=\"1\" class=\"dataframe\">\n",
       "  <thead>\n",
       "    <tr style=\"text-align: right;\">\n",
       "      <th></th>\n",
       "      <th>PassengerId</th>\n",
       "      <th>Survived</th>\n",
       "      <th>Pclass</th>\n",
       "      <th>Name</th>\n",
       "      <th>Sex</th>\n",
       "      <th>Age</th>\n",
       "      <th>SibSp</th>\n",
       "      <th>Parch</th>\n",
       "      <th>Ticket</th>\n",
       "      <th>Fare</th>\n",
       "      <th>Cabin</th>\n",
       "      <th>Embarked</th>\n",
       "    </tr>\n",
       "  </thead>\n",
       "  <tbody>\n",
       "    <tr>\n",
       "      <th>0</th>\n",
       "      <td>1</td>\n",
       "      <td>0</td>\n",
       "      <td>3</td>\n",
       "      <td>Braund, Mr. Owen Harris</td>\n",
       "      <td>male</td>\n",
       "      <td>22.0</td>\n",
       "      <td>1</td>\n",
       "      <td>0</td>\n",
       "      <td>A/5 21171</td>\n",
       "      <td>7.2500</td>\n",
       "      <td>NaN</td>\n",
       "      <td>S</td>\n",
       "    </tr>\n",
       "    <tr>\n",
       "      <th>1</th>\n",
       "      <td>2</td>\n",
       "      <td>1</td>\n",
       "      <td>1</td>\n",
       "      <td>Cumings, Mrs. John Bradley (Florence Briggs Th...</td>\n",
       "      <td>female</td>\n",
       "      <td>38.0</td>\n",
       "      <td>1</td>\n",
       "      <td>0</td>\n",
       "      <td>PC 17599</td>\n",
       "      <td>71.2833</td>\n",
       "      <td>C85</td>\n",
       "      <td>C</td>\n",
       "    </tr>\n",
       "    <tr>\n",
       "      <th>2</th>\n",
       "      <td>3</td>\n",
       "      <td>1</td>\n",
       "      <td>3</td>\n",
       "      <td>Heikkinen, Miss. Laina</td>\n",
       "      <td>female</td>\n",
       "      <td>26.0</td>\n",
       "      <td>0</td>\n",
       "      <td>0</td>\n",
       "      <td>STON/O2. 3101282</td>\n",
       "      <td>7.9250</td>\n",
       "      <td>NaN</td>\n",
       "      <td>S</td>\n",
       "    </tr>\n",
       "    <tr>\n",
       "      <th>3</th>\n",
       "      <td>4</td>\n",
       "      <td>1</td>\n",
       "      <td>1</td>\n",
       "      <td>Futrelle, Mrs. Jacques Heath (Lily May Peel)</td>\n",
       "      <td>female</td>\n",
       "      <td>35.0</td>\n",
       "      <td>1</td>\n",
       "      <td>0</td>\n",
       "      <td>113803</td>\n",
       "      <td>53.1000</td>\n",
       "      <td>C123</td>\n",
       "      <td>S</td>\n",
       "    </tr>\n",
       "    <tr>\n",
       "      <th>4</th>\n",
       "      <td>5</td>\n",
       "      <td>0</td>\n",
       "      <td>3</td>\n",
       "      <td>Allen, Mr. William Henry</td>\n",
       "      <td>male</td>\n",
       "      <td>35.0</td>\n",
       "      <td>0</td>\n",
       "      <td>0</td>\n",
       "      <td>373450</td>\n",
       "      <td>8.0500</td>\n",
       "      <td>NaN</td>\n",
       "      <td>S</td>\n",
       "    </tr>\n",
       "  </tbody>\n",
       "</table>\n",
       "</div>"
      ],
      "text/plain": [
       "   PassengerId  Survived  Pclass  \\\n",
       "0            1         0       3   \n",
       "1            2         1       1   \n",
       "2            3         1       3   \n",
       "3            4         1       1   \n",
       "4            5         0       3   \n",
       "\n",
       "                                                Name     Sex   Age  SibSp  \\\n",
       "0                            Braund, Mr. Owen Harris    male  22.0      1   \n",
       "1  Cumings, Mrs. John Bradley (Florence Briggs Th...  female  38.0      1   \n",
       "2                             Heikkinen, Miss. Laina  female  26.0      0   \n",
       "3       Futrelle, Mrs. Jacques Heath (Lily May Peel)  female  35.0      1   \n",
       "4                           Allen, Mr. William Henry    male  35.0      0   \n",
       "\n",
       "   Parch            Ticket     Fare Cabin Embarked  \n",
       "0      0         A/5 21171   7.2500   NaN        S  \n",
       "1      0          PC 17599  71.2833   C85        C  \n",
       "2      0  STON/O2. 3101282   7.9250   NaN        S  \n",
       "3      0            113803  53.1000  C123        S  \n",
       "4      0            373450   8.0500   NaN        S  "
      ]
     },
     "execution_count": 74,
     "metadata": {},
     "output_type": "execute_result"
    }
   ],
   "source": [
    "# Print the first few records to review data and format: \n",
    "Titanic_df.head(5)"
   ]
  },
  {
   "cell_type": "markdown",
   "metadata": {},
   "source": [
    "In the first glance, I can see that Cabin has 3 NaN values. I will try to find out the number of NaNs for each column."
   ]
  },
  {
   "cell_type": "code",
   "execution_count": 75,
   "metadata": {},
   "outputs": [
    {
     "data": {
      "text/plain": [
       "PassengerId      0\n",
       "Survived         0\n",
       "Pclass           0\n",
       "Name             0\n",
       "Sex              0\n",
       "Age            177\n",
       "SibSp            0\n",
       "Parch            0\n",
       "Ticket           0\n",
       "Fare             0\n",
       "Cabin          687\n",
       "Embarked         2\n",
       "dtype: int64"
      ]
     },
     "execution_count": 75,
     "metadata": {},
     "output_type": "execute_result"
    }
   ],
   "source": [
    "# Calculate number of missing values\n",
    "Titanic_df.isnull().sum()"
   ]
  },
  {
   "cell_type": "markdown",
   "metadata": {},
   "source": [
    "Cabin has 687 missing values and Age has 177. Since I don't see much use of the cabin column, I will just ignore it and for column Age, I shall change the NaN values of age with the median value."
   ]
  },
  {
   "cell_type": "code",
   "execution_count": 76,
   "metadata": {
    "collapsed": true
   },
   "outputs": [],
   "source": [
    "#Change the NaN values of age with the median value of age.\n",
    "Titanic_df['Age'].fillna(Titanic_df['Age'].median(), inplace=True)"
   ]
  },
  {
   "cell_type": "markdown",
   "metadata": {},
   "source": [
    "I just want to check if I was successful in replacing all the NaN values from age column. So I shall run the query again."
   ]
  },
  {
   "cell_type": "code",
   "execution_count": 77,
   "metadata": {},
   "outputs": [
    {
     "data": {
      "text/plain": [
       "PassengerId      0\n",
       "Survived         0\n",
       "Pclass           0\n",
       "Name             0\n",
       "Sex              0\n",
       "Age              0\n",
       "SibSp            0\n",
       "Parch            0\n",
       "Ticket           0\n",
       "Fare             0\n",
       "Cabin          687\n",
       "Embarked         2\n",
       "dtype: int64"
      ]
     },
     "execution_count": 77,
     "metadata": {},
     "output_type": "execute_result"
    }
   ],
   "source": [
    "# Calculate number of missing values again to check 'Age'column\n",
    "Titanic_df.isnull().sum()"
   ]
  },
  {
   "cell_type": "markdown",
   "metadata": {},
   "source": [
    "DataFrame.describe(percentiles=None, include=None, exclude=None)[source]\n",
    "Generates descriptive statistics that summarize the central tendency, dispersion and shape of a dataset’s distribution, excluding NaN values.\n",
    "Analyzes both numeric and object series, as well as DataFrame column sets of mixed data types.(Taken from google)"
   ]
  },
  {
   "cell_type": "code",
   "execution_count": 78,
   "metadata": {},
   "outputs": [
    {
     "data": {
      "text/html": [
       "<div>\n",
       "<style>\n",
       "    .dataframe thead tr:only-child th {\n",
       "        text-align: right;\n",
       "    }\n",
       "\n",
       "    .dataframe thead th {\n",
       "        text-align: left;\n",
       "    }\n",
       "\n",
       "    .dataframe tbody tr th {\n",
       "        vertical-align: top;\n",
       "    }\n",
       "</style>\n",
       "<table border=\"1\" class=\"dataframe\">\n",
       "  <thead>\n",
       "    <tr style=\"text-align: right;\">\n",
       "      <th></th>\n",
       "      <th>PassengerId</th>\n",
       "      <th>Survived</th>\n",
       "      <th>Pclass</th>\n",
       "      <th>Age</th>\n",
       "      <th>SibSp</th>\n",
       "      <th>Parch</th>\n",
       "      <th>Fare</th>\n",
       "    </tr>\n",
       "  </thead>\n",
       "  <tbody>\n",
       "    <tr>\n",
       "      <th>count</th>\n",
       "      <td>891.000000</td>\n",
       "      <td>891.000000</td>\n",
       "      <td>891.000000</td>\n",
       "      <td>891.000000</td>\n",
       "      <td>891.000000</td>\n",
       "      <td>891.000000</td>\n",
       "      <td>891.000000</td>\n",
       "    </tr>\n",
       "    <tr>\n",
       "      <th>mean</th>\n",
       "      <td>446.000000</td>\n",
       "      <td>0.383838</td>\n",
       "      <td>2.308642</td>\n",
       "      <td>29.361582</td>\n",
       "      <td>0.523008</td>\n",
       "      <td>0.381594</td>\n",
       "      <td>32.204208</td>\n",
       "    </tr>\n",
       "    <tr>\n",
       "      <th>std</th>\n",
       "      <td>257.353842</td>\n",
       "      <td>0.486592</td>\n",
       "      <td>0.836071</td>\n",
       "      <td>13.019697</td>\n",
       "      <td>1.102743</td>\n",
       "      <td>0.806057</td>\n",
       "      <td>49.693429</td>\n",
       "    </tr>\n",
       "    <tr>\n",
       "      <th>min</th>\n",
       "      <td>1.000000</td>\n",
       "      <td>0.000000</td>\n",
       "      <td>1.000000</td>\n",
       "      <td>0.420000</td>\n",
       "      <td>0.000000</td>\n",
       "      <td>0.000000</td>\n",
       "      <td>0.000000</td>\n",
       "    </tr>\n",
       "    <tr>\n",
       "      <th>25%</th>\n",
       "      <td>223.500000</td>\n",
       "      <td>0.000000</td>\n",
       "      <td>2.000000</td>\n",
       "      <td>22.000000</td>\n",
       "      <td>0.000000</td>\n",
       "      <td>0.000000</td>\n",
       "      <td>7.910400</td>\n",
       "    </tr>\n",
       "    <tr>\n",
       "      <th>50%</th>\n",
       "      <td>446.000000</td>\n",
       "      <td>0.000000</td>\n",
       "      <td>3.000000</td>\n",
       "      <td>28.000000</td>\n",
       "      <td>0.000000</td>\n",
       "      <td>0.000000</td>\n",
       "      <td>14.454200</td>\n",
       "    </tr>\n",
       "    <tr>\n",
       "      <th>75%</th>\n",
       "      <td>668.500000</td>\n",
       "      <td>1.000000</td>\n",
       "      <td>3.000000</td>\n",
       "      <td>35.000000</td>\n",
       "      <td>1.000000</td>\n",
       "      <td>0.000000</td>\n",
       "      <td>31.000000</td>\n",
       "    </tr>\n",
       "    <tr>\n",
       "      <th>max</th>\n",
       "      <td>891.000000</td>\n",
       "      <td>1.000000</td>\n",
       "      <td>3.000000</td>\n",
       "      <td>80.000000</td>\n",
       "      <td>8.000000</td>\n",
       "      <td>6.000000</td>\n",
       "      <td>512.329200</td>\n",
       "    </tr>\n",
       "  </tbody>\n",
       "</table>\n",
       "</div>"
      ],
      "text/plain": [
       "       PassengerId    Survived      Pclass         Age       SibSp  \\\n",
       "count   891.000000  891.000000  891.000000  891.000000  891.000000   \n",
       "mean    446.000000    0.383838    2.308642   29.361582    0.523008   \n",
       "std     257.353842    0.486592    0.836071   13.019697    1.102743   \n",
       "min       1.000000    0.000000    1.000000    0.420000    0.000000   \n",
       "25%     223.500000    0.000000    2.000000   22.000000    0.000000   \n",
       "50%     446.000000    0.000000    3.000000   28.000000    0.000000   \n",
       "75%     668.500000    1.000000    3.000000   35.000000    1.000000   \n",
       "max     891.000000    1.000000    3.000000   80.000000    8.000000   \n",
       "\n",
       "            Parch        Fare  \n",
       "count  891.000000  891.000000  \n",
       "mean     0.381594   32.204208  \n",
       "std      0.806057   49.693429  \n",
       "min      0.000000    0.000000  \n",
       "25%      0.000000    7.910400  \n",
       "50%      0.000000   14.454200  \n",
       "75%      0.000000   31.000000  \n",
       "max      6.000000  512.329200  "
      ]
     },
     "execution_count": 78,
     "metadata": {},
     "output_type": "execute_result"
    }
   ],
   "source": [
    "# To generate descriptive statistics, excluding NaN values.To know a little more about data.\n",
    "Titanic_df.describe()"
   ]
  },
  {
   "cell_type": "markdown",
   "metadata": {},
   "source": [
    "Now I shall find out how many people actually survived."
   ]
  },
  {
   "cell_type": "code",
   "execution_count": 79,
   "metadata": {},
   "outputs": [
    {
     "name": "stdout",
     "output_type": "stream",
     "text": [
      "0    549\n",
      "1    342\n",
      "Name: Survived, dtype: int64\n"
     ]
    }
   ],
   "source": [
    "#To find out how many people actually survived.\n",
    "Count_who_survived = Titanic_df['Survived'].value_counts()\n",
    "\n",
    "print(Count_who_survived)"
   ]
  },
  {
   "cell_type": "markdown",
   "metadata": {},
   "source": [
    "For my first question, I shall try to find out if out of 342 survivors, male survivors were actually less in number."
   ]
  },
  {
   "cell_type": "code",
   "execution_count": 80,
   "metadata": {},
   "outputs": [
    {
     "name": "stdout",
     "output_type": "stream",
     "text": [
      "0    468\n",
      "1    109\n",
      "Name: Survived, dtype: int64\n"
     ]
    }
   ],
   "source": [
    "#To find out how many males actually survived.\n",
    "Males_who_suvived =  Titanic_df['Survived'][Titanic_df[\"Sex\"]== 'male'].value_counts()\n",
    "print(Males_who_suvived)"
   ]
  },
  {
   "cell_type": "code",
   "execution_count": 81,
   "metadata": {},
   "outputs": [
    {
     "name": "stdout",
     "output_type": "stream",
     "text": [
      "1    233\n",
      "0     81\n",
      "Name: Survived, dtype: int64\n"
     ]
    }
   ],
   "source": [
    "#To find out how many females actually survived.\n",
    "Females_who_suvived =  Titanic_df['Survived'][Titanic_df[\"Sex\"]== 'female'].value_counts()\n",
    "print(Females_who_suvived)"
   ]
  },
  {
   "cell_type": "markdown",
   "metadata": {},
   "source": [
    "It is evident that out of 342 survivors, 233 were females so they were given preference.\n",
    "Now, to check if children were given preference. I will create a variable \"Child\" in dataframe. I shall split passengers into 3 categories (male of female if considered adult, and child if below 21 of age)."
   ]
  },
  {
   "cell_type": "code",
   "execution_count": 82,
   "metadata": {
    "collapsed": true
   },
   "outputs": [],
   "source": [
    "#To create a variable \"Child\" in dataframe. \n",
    "#The function will return child if age is below 21 and if age exceeds 21, the function will return the sex of the passenger.  \n",
    "\n",
    "def Agedecider(passenger):\n",
    "    age, sex = passenger\n",
    "\n",
    "    if age < 21:\n",
    "        return \"child\"\n",
    "    else:\n",
    "        return sex\n",
    "\n",
    "# adds new column to dataframe that distinguishes a passenger as a child or an adult\n",
    "Titanic_df['PersonStatus'] = Titanic_df[['Age', 'Sex']].apply(Agedecider, axis=1)\n"
   ]
  },
  {
   "cell_type": "code",
   "execution_count": 83,
   "metadata": {},
   "outputs": [
    {
     "data": {
      "text/plain": [
       "male      474\n",
       "female    237\n",
       "child     180\n",
       "Name: PersonStatus, dtype: int64"
      ]
     },
     "execution_count": 83,
     "metadata": {},
     "output_type": "execute_result"
    }
   ],
   "source": [
    "# To get counts of unique values in The column PersonStatus(male,feamle,child)\n",
    "Titanic_df['PersonStatus'].value_counts()"
   ]
  },
  {
   "cell_type": "code",
   "execution_count": 84,
   "metadata": {},
   "outputs": [
    {
     "data": {
      "text/html": [
       "<div>\n",
       "<style>\n",
       "    .dataframe thead tr:only-child th {\n",
       "        text-align: right;\n",
       "    }\n",
       "\n",
       "    .dataframe thead th {\n",
       "        text-align: left;\n",
       "    }\n",
       "\n",
       "    .dataframe tbody tr th {\n",
       "        vertical-align: top;\n",
       "    }\n",
       "</style>\n",
       "<table border=\"1\" class=\"dataframe\">\n",
       "  <thead>\n",
       "    <tr style=\"text-align: right;\">\n",
       "      <th></th>\n",
       "      <th>PassengerId</th>\n",
       "      <th>Survived</th>\n",
       "      <th>Pclass</th>\n",
       "      <th>Name</th>\n",
       "      <th>Sex</th>\n",
       "      <th>Age</th>\n",
       "      <th>SibSp</th>\n",
       "      <th>Parch</th>\n",
       "      <th>Ticket</th>\n",
       "      <th>Fare</th>\n",
       "      <th>Cabin</th>\n",
       "      <th>Embarked</th>\n",
       "      <th>PersonStatus</th>\n",
       "    </tr>\n",
       "  </thead>\n",
       "  <tbody>\n",
       "    <tr>\n",
       "      <th>0</th>\n",
       "      <td>1</td>\n",
       "      <td>0</td>\n",
       "      <td>3</td>\n",
       "      <td>Braund, Mr. Owen Harris</td>\n",
       "      <td>male</td>\n",
       "      <td>22.0</td>\n",
       "      <td>1</td>\n",
       "      <td>0</td>\n",
       "      <td>A/5 21171</td>\n",
       "      <td>7.2500</td>\n",
       "      <td>NaN</td>\n",
       "      <td>S</td>\n",
       "      <td>male</td>\n",
       "    </tr>\n",
       "    <tr>\n",
       "      <th>1</th>\n",
       "      <td>2</td>\n",
       "      <td>1</td>\n",
       "      <td>1</td>\n",
       "      <td>Cumings, Mrs. John Bradley (Florence Briggs Th...</td>\n",
       "      <td>female</td>\n",
       "      <td>38.0</td>\n",
       "      <td>1</td>\n",
       "      <td>0</td>\n",
       "      <td>PC 17599</td>\n",
       "      <td>71.2833</td>\n",
       "      <td>C85</td>\n",
       "      <td>C</td>\n",
       "      <td>female</td>\n",
       "    </tr>\n",
       "    <tr>\n",
       "      <th>2</th>\n",
       "      <td>3</td>\n",
       "      <td>1</td>\n",
       "      <td>3</td>\n",
       "      <td>Heikkinen, Miss. Laina</td>\n",
       "      <td>female</td>\n",
       "      <td>26.0</td>\n",
       "      <td>0</td>\n",
       "      <td>0</td>\n",
       "      <td>STON/O2. 3101282</td>\n",
       "      <td>7.9250</td>\n",
       "      <td>NaN</td>\n",
       "      <td>S</td>\n",
       "      <td>female</td>\n",
       "    </tr>\n",
       "    <tr>\n",
       "      <th>3</th>\n",
       "      <td>4</td>\n",
       "      <td>1</td>\n",
       "      <td>1</td>\n",
       "      <td>Futrelle, Mrs. Jacques Heath (Lily May Peel)</td>\n",
       "      <td>female</td>\n",
       "      <td>35.0</td>\n",
       "      <td>1</td>\n",
       "      <td>0</td>\n",
       "      <td>113803</td>\n",
       "      <td>53.1000</td>\n",
       "      <td>C123</td>\n",
       "      <td>S</td>\n",
       "      <td>female</td>\n",
       "    </tr>\n",
       "    <tr>\n",
       "      <th>4</th>\n",
       "      <td>5</td>\n",
       "      <td>0</td>\n",
       "      <td>3</td>\n",
       "      <td>Allen, Mr. William Henry</td>\n",
       "      <td>male</td>\n",
       "      <td>35.0</td>\n",
       "      <td>0</td>\n",
       "      <td>0</td>\n",
       "      <td>373450</td>\n",
       "      <td>8.0500</td>\n",
       "      <td>NaN</td>\n",
       "      <td>S</td>\n",
       "      <td>male</td>\n",
       "    </tr>\n",
       "    <tr>\n",
       "      <th>5</th>\n",
       "      <td>6</td>\n",
       "      <td>0</td>\n",
       "      <td>3</td>\n",
       "      <td>Moran, Mr. James</td>\n",
       "      <td>male</td>\n",
       "      <td>28.0</td>\n",
       "      <td>0</td>\n",
       "      <td>0</td>\n",
       "      <td>330877</td>\n",
       "      <td>8.4583</td>\n",
       "      <td>NaN</td>\n",
       "      <td>Q</td>\n",
       "      <td>male</td>\n",
       "    </tr>\n",
       "    <tr>\n",
       "      <th>6</th>\n",
       "      <td>7</td>\n",
       "      <td>0</td>\n",
       "      <td>1</td>\n",
       "      <td>McCarthy, Mr. Timothy J</td>\n",
       "      <td>male</td>\n",
       "      <td>54.0</td>\n",
       "      <td>0</td>\n",
       "      <td>0</td>\n",
       "      <td>17463</td>\n",
       "      <td>51.8625</td>\n",
       "      <td>E46</td>\n",
       "      <td>S</td>\n",
       "      <td>male</td>\n",
       "    </tr>\n",
       "    <tr>\n",
       "      <th>7</th>\n",
       "      <td>8</td>\n",
       "      <td>0</td>\n",
       "      <td>3</td>\n",
       "      <td>Palsson, Master. Gosta Leonard</td>\n",
       "      <td>male</td>\n",
       "      <td>2.0</td>\n",
       "      <td>3</td>\n",
       "      <td>1</td>\n",
       "      <td>349909</td>\n",
       "      <td>21.0750</td>\n",
       "      <td>NaN</td>\n",
       "      <td>S</td>\n",
       "      <td>child</td>\n",
       "    </tr>\n",
       "    <tr>\n",
       "      <th>8</th>\n",
       "      <td>9</td>\n",
       "      <td>1</td>\n",
       "      <td>3</td>\n",
       "      <td>Johnson, Mrs. Oscar W (Elisabeth Vilhelmina Berg)</td>\n",
       "      <td>female</td>\n",
       "      <td>27.0</td>\n",
       "      <td>0</td>\n",
       "      <td>2</td>\n",
       "      <td>347742</td>\n",
       "      <td>11.1333</td>\n",
       "      <td>NaN</td>\n",
       "      <td>S</td>\n",
       "      <td>female</td>\n",
       "    </tr>\n",
       "    <tr>\n",
       "      <th>9</th>\n",
       "      <td>10</td>\n",
       "      <td>1</td>\n",
       "      <td>2</td>\n",
       "      <td>Nasser, Mrs. Nicholas (Adele Achem)</td>\n",
       "      <td>female</td>\n",
       "      <td>14.0</td>\n",
       "      <td>1</td>\n",
       "      <td>0</td>\n",
       "      <td>237736</td>\n",
       "      <td>30.0708</td>\n",
       "      <td>NaN</td>\n",
       "      <td>C</td>\n",
       "      <td>child</td>\n",
       "    </tr>\n",
       "  </tbody>\n",
       "</table>\n",
       "</div>"
      ],
      "text/plain": [
       "   PassengerId  Survived  Pclass  \\\n",
       "0            1         0       3   \n",
       "1            2         1       1   \n",
       "2            3         1       3   \n",
       "3            4         1       1   \n",
       "4            5         0       3   \n",
       "5            6         0       3   \n",
       "6            7         0       1   \n",
       "7            8         0       3   \n",
       "8            9         1       3   \n",
       "9           10         1       2   \n",
       "\n",
       "                                                Name     Sex   Age  SibSp  \\\n",
       "0                            Braund, Mr. Owen Harris    male  22.0      1   \n",
       "1  Cumings, Mrs. John Bradley (Florence Briggs Th...  female  38.0      1   \n",
       "2                             Heikkinen, Miss. Laina  female  26.0      0   \n",
       "3       Futrelle, Mrs. Jacques Heath (Lily May Peel)  female  35.0      1   \n",
       "4                           Allen, Mr. William Henry    male  35.0      0   \n",
       "5                                   Moran, Mr. James    male  28.0      0   \n",
       "6                            McCarthy, Mr. Timothy J    male  54.0      0   \n",
       "7                     Palsson, Master. Gosta Leonard    male   2.0      3   \n",
       "8  Johnson, Mrs. Oscar W (Elisabeth Vilhelmina Berg)  female  27.0      0   \n",
       "9                Nasser, Mrs. Nicholas (Adele Achem)  female  14.0      1   \n",
       "\n",
       "   Parch            Ticket     Fare Cabin Embarked PersonStatus  \n",
       "0      0         A/5 21171   7.2500   NaN        S         male  \n",
       "1      0          PC 17599  71.2833   C85        C       female  \n",
       "2      0  STON/O2. 3101282   7.9250   NaN        S       female  \n",
       "3      0            113803  53.1000  C123        S       female  \n",
       "4      0            373450   8.0500   NaN        S         male  \n",
       "5      0            330877   8.4583   NaN        Q         male  \n",
       "6      0             17463  51.8625   E46        S         male  \n",
       "7      1            349909  21.0750   NaN        S        child  \n",
       "8      2            347742  11.1333   NaN        S       female  \n",
       "9      0            237736  30.0708   NaN        C        child  "
      ]
     },
     "execution_count": 84,
     "metadata": {},
     "output_type": "execute_result"
    }
   ],
   "source": [
    "#Checking a few columns to ensure that Personstatus is correct according to the criterion.\n",
    "Titanic_df.head(10)"
   ]
  },
  {
   "cell_type": "code",
   "execution_count": 85,
   "metadata": {},
   "outputs": [
    {
     "name": "stdout",
     "output_type": "stream",
     "text": [
      "0    98\n",
      "1    82\n",
      "Name: Survived, dtype: int64\n"
     ]
    }
   ],
   "source": [
    "# To find out the number of children who survived\n",
    "Children_who_suvived =  Titanic_df['Survived'][Titanic_df[\"PersonStatus\"]== 'child'].value_counts()\n",
    "print(Children_who_suvived)"
   ]
  },
  {
   "cell_type": "markdown",
   "metadata": {},
   "source": [
    "I already almost have the answer to my first question. I shall use the graph to finally come to the conclusion that women and children were actually given preference to men in any class."
   ]
  },
  {
   "cell_type": "code",
   "execution_count": 86,
   "metadata": {},
   "outputs": [
    {
     "data": {
      "text/plain": [
       "<matplotlib.text.Text at 0x13ca72e8>"
      ]
     },
     "execution_count": 86,
     "metadata": {},
     "output_type": "execute_result"
    },
    {
     "data": {
      "image/png": "[encoded data removed]",
      "text/plain": [
       "<matplotlib.figure.Figure at 0xc4aa4e0>"
      ]
     },
     "metadata": {},
     "output_type": "display_data"
    }
   ],
   "source": [
    "#Hue variable should be used for the most important comparisons, in my case, PersonStatus.\n",
    "#To plot the survival rate of all three Person Status in all 3 classes.\n",
    "\n",
    "sns.factorplot('Pclass','Survived', hue = 'PersonStatus', data = Titanic_df, kind = 'bar')\n",
    "plt.xlabel('Class')\n",
    "plt.ylabel('Survival')\n",
    "plt.title('Survival based on class and status')\n"
   ]
  },
  {
   "cell_type": "markdown",
   "metadata": {},
   "source": [
    "As is evident from the graph, the survival rate for children and women combined was more than the rate of men in all the three classes.\n",
    "To answer my second question, I shall now try to find out the survival rate based on classes alone."
   ]
  },
  {
   "cell_type": "code",
   "execution_count": 87,
   "metadata": {},
   "outputs": [
    {
     "name": "stdout",
     "output_type": "stream",
     "text": [
      "1    0.62963\n",
      "0    0.37037\n",
      "Name: Survived, dtype: float64\n",
      "0    0.527174\n",
      "1    0.472826\n",
      "Name: Survived, dtype: float64\n",
      "0    0.757637\n",
      "1    0.242363\n",
      "Name: Survived, dtype: float64\n"
     ]
    }
   ],
   "source": [
    "#To find out the survival rate based on classes alone\n",
    "Class_1_who_suvived =  Titanic_df['Survived'][Titanic_df[\"Pclass\"]== 1].value_counts(normalize = True)\n",
    "print(Class_1_who_suvived)\n",
    "Class_2_who_suvived =  Titanic_df['Survived'][Titanic_df[\"Pclass\"]== 2].value_counts(normalize = True)\n",
    "print(Class_2_who_suvived)\n",
    "Class_3_who_suvived =  Titanic_df['Survived'][Titanic_df[\"Pclass\"]== 3].value_counts(normalize = True)\n",
    "print(Class_3_who_suvived)"
   ]
  },
  {
   "cell_type": "markdown",
   "metadata": {},
   "source": [
    "From the above results, it looks like class 1 and 2 were definitely given preference to class 3. To further substantiate the result, I shall draw a graph.\n",
    "#It would be interesting to see if survival rate of women who were travelling in class 1 was 100%.\n"
   ]
  },
  {
   "cell_type": "code",
   "execution_count": 88,
   "metadata": {},
   "outputs": [
    {
     "data": {
      "text/plain": [
       "<matplotlib.text.Text at 0x14cf2358>"
      ]
     },
     "execution_count": 88,
     "metadata": {},
     "output_type": "execute_result"
    },
    {
     "data": {
      "image/png": "[encoded data removed]",
      "text/plain": [
       "<matplotlib.figure.Figure at 0x13d3ba58>"
      ]
     },
     "metadata": {},
     "output_type": "display_data"
    }
   ],
   "source": [
    "# To plot the graph between survival rate and the three classes\n",
    "sns.factorplot('Pclass','Survived', data = Titanic_df, kind = 'bar')\n",
    "plt.xlabel('Class')\n",
    "plt.ylabel('Survival')\n",
    "plt.title('Survival based on class')"
   ]
  },
  {
   "cell_type": "markdown",
   "metadata": {},
   "source": [
    "As predicted, the survival rate did depend upon the class. First class was given preference after all. It would be interesting to find out whether the survival rate of women of first class was almost 100%"
   ]
  },
  {
   "cell_type": "code",
   "execution_count": 89,
   "metadata": {},
   "outputs": [
    {
     "name": "stdout",
     "output_type": "stream",
     "text": [
      "(94, 13)\n",
      "(91, 13)\n"
     ]
    }
   ],
   "source": [
    "#To find out whether the survival rate of women of first class\n",
    "Females_in_class_1 = Titanic_df[(Titanic_df[\"Sex\"] == 'female') & (Titanic_df[\"Pclass\"]== 1)]\n",
    "print(Females_in_class_1.shape)\n",
    "Females_in_class_1_who_survived = Titanic_df[(Titanic_df[\"Survived\"] == 1) & (Titanic_df[\"Sex\"] == 'female') & (Titanic_df[\"Pclass\"]== 1)]\n",
    "print(Females_in_class_1_who_survived.shape)\n"
   ]
  },
  {
   "cell_type": "markdown",
   "metadata": {},
   "source": [
    "As expected, the survivale rate was almost 100% for women travelling in 1st class. To answer my third question, I will find out whether the survival rate of women travelling in third class was at least better than men travelling in 1st class?"
   ]
  },
  {
   "cell_type": "code",
   "execution_count": 90,
   "metadata": {},
   "outputs": [
    {
     "name": "stdout",
     "output_type": "stream",
     "text": [
      "(144, 13)\n",
      "(72, 13)\n"
     ]
    }
   ],
   "source": [
    "#To find out whether the survival rate of women of third class\n",
    "Females_in_class_3 = Titanic_df[(Titanic_df[\"Sex\"] == 'female') & (Titanic_df[\"Pclass\"]== 3)]\n",
    "print(Females_in_class_3.shape)\n",
    "Females_in_class_3_who_survived = Titanic_df[(Titanic_df[\"Survived\"] == 1) & (Titanic_df[\"Sex\"] == 'female') & (Titanic_df[\"Pclass\"]== 3)]\n",
    "print(Females_in_class_3_who_survived.shape)"
   ]
  },
  {
   "cell_type": "code",
   "execution_count": 91,
   "metadata": {},
   "outputs": [
    {
     "name": "stdout",
     "output_type": "stream",
     "text": [
      "(122, 13)\n",
      "(45, 13)\n"
     ]
    }
   ],
   "source": [
    "#To find out whether the survival rate of men of first class\n",
    "Males_in_class_1 = Titanic_df[(Titanic_df[\"Sex\"] == 'male') & (Titanic_df[\"Pclass\"]== 1)]\n",
    "print(Males_in_class_1.shape)\n",
    "Males_in_class_1_who_survived = Titanic_df[(Titanic_df[\"Survived\"] == 1) & (Titanic_df[\"Sex\"] == 'male') & (Titanic_df[\"Pclass\"]== 1)]\n",
    "print(Males_in_class_1_who_survived.shape)"
   ]
  },
  {
   "cell_type": "markdown",
   "metadata": {},
   "source": [
    "It is good to see that survival rate of women was better than men.(and the class made no difference there). There was an easier way to do all this using the mean and groupby function."
   ]
  },
  {
   "cell_type": "code",
   "execution_count": 92,
   "metadata": {},
   "outputs": [
    {
     "name": "stdout",
     "output_type": "stream",
     "text": [
      "                     PassengerId  Survived        Age     SibSp     Parch  \\\n",
      "Pclass PersonStatus                                                         \n",
      "1      child          500.380952  0.809524  14.900952  0.714286  1.095238   \n",
      "       female         462.337500  0.975000  37.125000  0.550000  0.375000   \n",
      "       male           454.000000  0.356522  40.595652  0.269565  0.208696   \n",
      "2      child          417.257143  0.742857  10.695143  0.485714  0.800000   \n",
      "       female         453.333333  0.900000  33.458333  0.483333  0.500000   \n",
      "       male           452.269663  0.078652  34.775281  0.314607  0.134831   \n",
      "3      child          436.862903  0.314516  12.886452  1.241935  0.685484   \n",
      "       female         403.144330  0.494845  29.664948  0.711340  0.783505   \n",
      "       male           453.144444  0.118519  30.583333  0.292593  0.118519   \n",
      "\n",
      "                           Fare  \n",
      "Pclass PersonStatus              \n",
      "1      child         116.136705  \n",
      "       female        105.328072  \n",
      "       male           63.585182  \n",
      "2      child          24.725834  \n",
      "       female         21.113820  \n",
      "       male           18.759644  \n",
      "3      child          16.505445  \n",
      "       female         15.875689  \n",
      "       male           11.585474  \n"
     ]
    }
   ],
   "source": [
    "#Everything at a glance by using mean and groupby functions\n",
    "class_sex_grouping = Titanic_df.groupby(['Pclass','PersonStatus']).mean()\n",
    "print(class_sex_grouping)"
   ]
  },
  {
   "cell_type": "code",
   "execution_count": 93,
   "metadata": {},
   "outputs": [
    {
     "name": "stdout",
     "output_type": "stream",
     "text": [
      "        PassengerId  Survived        Age     SibSp     Parch       Fare\n",
      "Pclass                                                                 \n",
      "1        461.597222  0.629630  36.812130  0.416667  0.356481  84.154687\n",
      "2        445.956522  0.472826  29.765380  0.402174  0.380435  20.662183\n",
      "3        439.154786  0.242363  25.932627  0.615071  0.393075  13.675550\n"
     ]
    }
   ],
   "source": [
    "# To find out all the details of the classes using groupby and mean.\n",
    "class_grouping = Titanic_df.groupby(['Pclass']).mean()\n",
    "print(class_grouping)"
   ]
  },
  {
   "cell_type": "code",
   "execution_count": 94,
   "metadata": {},
   "outputs": [
    {
     "name": "stdout",
     "output_type": "stream",
     "text": [
      "              PassengerId  Survived    Pclass        Age     SibSp     Parch  \\\n",
      "PersonStatus                                                                   \n",
      "child          440.461111  0.455556  2.572222  12.695389  1.033333  0.755556   \n",
      "female         435.831224  0.759494  2.071730  33.143460  0.599156  0.573840   \n",
      "male           453.187764  0.168776  2.327004  33.799578  0.291139  0.143460   \n",
      "\n",
      "                   Fare  \n",
      "PersonStatus             \n",
      "child         29.727501  \n",
      "female        47.396695  \n",
      "male          25.548486  \n"
     ]
    }
   ],
   "source": [
    "# To find out all the details of the PersonStatus using groupby and mean.\n",
    "sex_grouping = Titanic_df.groupby(['PersonStatus']).mean()\n",
    "print(sex_grouping)"
   ]
  },
  {
   "cell_type": "code",
   "execution_count": 95,
   "metadata": {},
   "outputs": [
    {
     "data": {
      "text/plain": [
       "<matplotlib.text.Text at 0x13d3b860>"
      ]
     },
     "execution_count": 95,
     "metadata": {},
     "output_type": "execute_result"
    },
    {
     "data": {
      "image/png": "[encoded data removed]",
      "text/plain": [
       "<matplotlib.figure.Figure at 0x13a40898>"
      ]
     },
     "metadata": {},
     "output_type": "display_data"
    }
   ],
   "source": [
    "# To plot the graph between survived and the personstatus for all the three classes\n",
    "g = sns.factorplot(x=\"PersonStatus\", y=\"Survived\", col=\"Pclass\",\n",
    "                  data=Titanic_df, hue =\"Pclass\")\n",
    "g.set(xlabel='Status', ylabel='Survival')\n",
    "plt.subplots_adjust(top=0.8)\n",
    "g.fig.suptitle('Survival based on status and class')\n",
    "\n",
    "\n"
   ]
  },
  {
   "cell_type": "code",
   "execution_count": 96,
   "metadata": {},
   "outputs": [
    {
     "data": {
      "text/plain": [
       "<matplotlib.text.Text at 0x1562e828>"
      ]
     },
     "execution_count": 96,
     "metadata": {},
     "output_type": "execute_result"
    },
    {
     "data": {
      "image/png": "[encoded data removed]",
      "text/plain": [
       "<matplotlib.figure.Figure at 0x155a9a20>"
      ]
     },
     "metadata": {},
     "output_type": "display_data"
    }
   ],
   "source": [
    "# To plot the graph between Survived and the three classes\n",
    "g = sns.factorplot(x=\"Pclass\", y=\"Survived\", \n",
    "                  data=Titanic_df)\n",
    "g.set(xlabel='Class', ylabel='Survival')\n",
    "plt.subplots_adjust(top=0.9)\n",
    "g.fig.suptitle('Survival based on class')\n",
    "\n"
   ]
  },
  {
   "cell_type": "code",
   "execution_count": 97,
   "metadata": {},
   "outputs": [
    {
     "data": {
      "text/plain": [
       "<matplotlib.text.Text at 0x156ff9e8>"
      ]
     },
     "execution_count": 97,
     "metadata": {},
     "output_type": "execute_result"
    },
    {
     "data": {
      "image/png": "[encoded data removed]",
      "text/plain": [
       "<matplotlib.figure.Figure at 0x156afcf8>"
      ]
     },
     "metadata": {},
     "output_type": "display_data"
    }
   ],
   "source": [
    "# To plot the graph between Survived and the three PersonStatus\n",
    "g = sns.factorplot(x=\"PersonStatus\", y=\"Survived\", \n",
    "                  data=Titanic_df)\n",
    "g.set(xlabel='Status', ylabel='Survival')\n",
    "plt.subplots_adjust(top=0.9)\n",
    "g.fig.suptitle('Survival based on status')\n"
   ]
  },
  {
   "cell_type": "code",
   "execution_count": 98,
   "metadata": {},
   "outputs": [
    {
     "data": {
      "text/plain": [
       "<matplotlib.text.Text at 0x15c7ed68>"
      ]
     },
     "execution_count": 98,
     "metadata": {},
     "output_type": "execute_result"
    },
    {
     "data": {
      "image/png": "[encoded data removed]",
      "text/plain": [
       "<matplotlib.figure.Figure at 0x141c3710>"
      ]
     },
     "metadata": {},
     "output_type": "display_data"
    }
   ],
   "source": [
    "# To plot the graph of unique counts of male,female and child.\n",
    "Titanic_df.PersonStatus.value_counts().plot(kind = 'bar')\n",
    "plt.xlabel('Status')\n",
    "plt.ylabel('Count of people who survived')\n",
    "plt.title('Survival based on status')"
   ]
  },
  {
   "cell_type": "code",
   "execution_count": 99,
   "metadata": {
    "scrolled": true
   },
   "outputs": [
    {
     "data": {
      "text/plain": [
       "<matplotlib.text.Text at 0x15f062b0>"
      ]
     },
     "execution_count": 99,
     "metadata": {},
     "output_type": "execute_result"
    },
    {
     "data": {
      "image/png": "[encoded data removed]",
      "text/plain": [
       "<matplotlib.figure.Figure at 0x15c7e438>"
      ]
     },
     "metadata": {},
     "output_type": "display_data"
    }
   ],
   "source": [
    "# To have a rough idea of the ages of passengers of Titanic\n",
    "Titanic_df['Age'].hist(bins=80)\n",
    "plt.xlabel('Age')\n",
    "plt.ylabel('Count of people of that age')\n",
    "plt.title('Age of passengers')\n"
   ]
  },
  {
   "cell_type": "code",
   "execution_count": 100,
   "metadata": {},
   "outputs": [
    {
     "data": {
      "text/plain": [
       "<seaborn.axisgrid.FacetGrid at 0x15e99550>"
      ]
     },
     "execution_count": 100,
     "metadata": {},
     "output_type": "execute_result"
    },
    {
     "data": {
      "image/png": "[encoded data removed]",
      "text/plain": [
       "<matplotlib.figure.Figure at 0x16037c50>"
      ]
     },
     "metadata": {},
     "output_type": "display_data"
    }
   ],
   "source": [
    "# To plot the survival according to the age\n",
    "#lmplot is used  a convenient interface to fit regression models across conditional subsets of a dataset.\n",
    "sns.lmplot('Age', 'Survived', data=Titanic_df)"
   ]
  },
  {
   "cell_type": "code",
   "execution_count": 101,
   "metadata": {
    "collapsed": true
   },
   "outputs": [],
   "source": [
    "# Adding Solo_or_Fam column\n",
    "\n",
    "Titanic_df['Solo_or_Fam'] = Titanic_df.SibSp + Titanic_df.Parch "
   ]
  },
  {
   "cell_type": "code",
   "execution_count": 102,
   "metadata": {
    "collapsed": true
   },
   "outputs": [],
   "source": [
    "# To determine if the passengere was travelling alone or with family.\n",
    "# if count of the newly added colum was more than 0, then the function returns family else alone.\n",
    "\n",
    "def Famdecider(count):\n",
    "     \n",
    "    \n",
    "    if count > 0:\n",
    "        return \"Family\"\n",
    "    else:\n",
    "        return \"Alone\"\n",
    "\n",
    "# adds new column to dataframe that distinguishes a passenger as a child or an adult\n",
    "\n",
    "Titanic_df['Solo_or_Family'] = Titanic_df['Solo_or_Fam'].apply(Famdecider)\n"
   ]
  },
  {
   "cell_type": "code",
   "execution_count": 103,
   "metadata": {},
   "outputs": [
    {
     "data": {
      "text/html": [
       "<div>\n",
       "<style>\n",
       "    .dataframe thead tr:only-child th {\n",
       "        text-align: right;\n",
       "    }\n",
       "\n",
       "    .dataframe thead th {\n",
       "        text-align: left;\n",
       "    }\n",
       "\n",
       "    .dataframe tbody tr th {\n",
       "        vertical-align: top;\n",
       "    }\n",
       "</style>\n",
       "<table border=\"1\" class=\"dataframe\">\n",
       "  <thead>\n",
       "    <tr style=\"text-align: right;\">\n",
       "      <th></th>\n",
       "      <th>PassengerId</th>\n",
       "      <th>Survived</th>\n",
       "      <th>Pclass</th>\n",
       "      <th>Name</th>\n",
       "      <th>Sex</th>\n",
       "      <th>Age</th>\n",
       "      <th>SibSp</th>\n",
       "      <th>Parch</th>\n",
       "      <th>Ticket</th>\n",
       "      <th>Fare</th>\n",
       "      <th>Cabin</th>\n",
       "      <th>Embarked</th>\n",
       "      <th>PersonStatus</th>\n",
       "      <th>Solo_or_Fam</th>\n",
       "      <th>Solo_or_Family</th>\n",
       "    </tr>\n",
       "  </thead>\n",
       "  <tbody>\n",
       "    <tr>\n",
       "      <th>0</th>\n",
       "      <td>1</td>\n",
       "      <td>0</td>\n",
       "      <td>3</td>\n",
       "      <td>Braund, Mr. Owen Harris</td>\n",
       "      <td>male</td>\n",
       "      <td>22.0</td>\n",
       "      <td>1</td>\n",
       "      <td>0</td>\n",
       "      <td>A/5 21171</td>\n",
       "      <td>7.2500</td>\n",
       "      <td>NaN</td>\n",
       "      <td>S</td>\n",
       "      <td>male</td>\n",
       "      <td>1</td>\n",
       "      <td>Family</td>\n",
       "    </tr>\n",
       "    <tr>\n",
       "      <th>1</th>\n",
       "      <td>2</td>\n",
       "      <td>1</td>\n",
       "      <td>1</td>\n",
       "      <td>Cumings, Mrs. John Bradley (Florence Briggs Th...</td>\n",
       "      <td>female</td>\n",
       "      <td>38.0</td>\n",
       "      <td>1</td>\n",
       "      <td>0</td>\n",
       "      <td>PC 17599</td>\n",
       "      <td>71.2833</td>\n",
       "      <td>C85</td>\n",
       "      <td>C</td>\n",
       "      <td>female</td>\n",
       "      <td>1</td>\n",
       "      <td>Family</td>\n",
       "    </tr>\n",
       "    <tr>\n",
       "      <th>2</th>\n",
       "      <td>3</td>\n",
       "      <td>1</td>\n",
       "      <td>3</td>\n",
       "      <td>Heikkinen, Miss. Laina</td>\n",
       "      <td>female</td>\n",
       "      <td>26.0</td>\n",
       "      <td>0</td>\n",
       "      <td>0</td>\n",
       "      <td>STON/O2. 3101282</td>\n",
       "      <td>7.9250</td>\n",
       "      <td>NaN</td>\n",
       "      <td>S</td>\n",
       "      <td>female</td>\n",
       "      <td>0</td>\n",
       "      <td>Alone</td>\n",
       "    </tr>\n",
       "    <tr>\n",
       "      <th>3</th>\n",
       "      <td>4</td>\n",
       "      <td>1</td>\n",
       "      <td>1</td>\n",
       "      <td>Futrelle, Mrs. Jacques Heath (Lily May Peel)</td>\n",
       "      <td>female</td>\n",
       "      <td>35.0</td>\n",
       "      <td>1</td>\n",
       "      <td>0</td>\n",
       "      <td>113803</td>\n",
       "      <td>53.1000</td>\n",
       "      <td>C123</td>\n",
       "      <td>S</td>\n",
       "      <td>female</td>\n",
       "      <td>1</td>\n",
       "      <td>Family</td>\n",
       "    </tr>\n",
       "    <tr>\n",
       "      <th>4</th>\n",
       "      <td>5</td>\n",
       "      <td>0</td>\n",
       "      <td>3</td>\n",
       "      <td>Allen, Mr. William Henry</td>\n",
       "      <td>male</td>\n",
       "      <td>35.0</td>\n",
       "      <td>0</td>\n",
       "      <td>0</td>\n",
       "      <td>373450</td>\n",
       "      <td>8.0500</td>\n",
       "      <td>NaN</td>\n",
       "      <td>S</td>\n",
       "      <td>male</td>\n",
       "      <td>0</td>\n",
       "      <td>Alone</td>\n",
       "    </tr>\n",
       "  </tbody>\n",
       "</table>\n",
       "</div>"
      ],
      "text/plain": [
       "   PassengerId  Survived  Pclass  \\\n",
       "0            1         0       3   \n",
       "1            2         1       1   \n",
       "2            3         1       3   \n",
       "3            4         1       1   \n",
       "4            5         0       3   \n",
       "\n",
       "                                                Name     Sex   Age  SibSp  \\\n",
       "0                            Braund, Mr. Owen Harris    male  22.0      1   \n",
       "1  Cumings, Mrs. John Bradley (Florence Briggs Th...  female  38.0      1   \n",
       "2                             Heikkinen, Miss. Laina  female  26.0      0   \n",
       "3       Futrelle, Mrs. Jacques Heath (Lily May Peel)  female  35.0      1   \n",
       "4                           Allen, Mr. William Henry    male  35.0      0   \n",
       "\n",
       "   Parch            Ticket     Fare Cabin Embarked PersonStatus  Solo_or_Fam  \\\n",
       "0      0         A/5 21171   7.2500   NaN        S         male            1   \n",
       "1      0          PC 17599  71.2833   C85        C       female            1   \n",
       "2      0  STON/O2. 3101282   7.9250   NaN        S       female            0   \n",
       "3      0            113803  53.1000  C123        S       female            1   \n",
       "4      0            373450   8.0500   NaN        S         male            0   \n",
       "\n",
       "  Solo_or_Family  \n",
       "0         Family  \n",
       "1         Family  \n",
       "2          Alone  \n",
       "3         Family  \n",
       "4          Alone  "
      ]
     },
     "execution_count": 103,
     "metadata": {},
     "output_type": "execute_result"
    }
   ],
   "source": [
    "# To ensure that the Solo_or_Family is added to the dataframe\n",
    "\n",
    "Titanic_df.head(5)"
   ]
  },
  {
   "cell_type": "code",
   "execution_count": 104,
   "metadata": {},
   "outputs": [
    {
     "data": {
      "text/plain": [
       "<matplotlib.text.Text at 0x14276128>"
      ]
     },
     "execution_count": 104,
     "metadata": {},
     "output_type": "execute_result"
    },
    {
     "data": {
      "image/png": "[encoded data removed]",
      "text/plain": [
       "<matplotlib.figure.Figure at 0x131888d0>"
      ]
     },
     "metadata": {},
     "output_type": "display_data"
    }
   ],
   "source": [
    "# To plot the graph between Survived and the two factors of Solo_or_Family column\n",
    "\n",
    "sns.factorplot(\"Solo_or_Family\", \"Survived\", data=Titanic_df, kind =\"bar\", size=4)\n",
    "plt.xlabel('Category of passengers')\n",
    "plt.ylabel('Survival')\n",
    "plt.title('Survival based on category')\n"
   ]
  },
  {
   "cell_type": "markdown",
   "metadata": {},
   "source": [
    "As expected, the survival rate for families was better than passengers travelling alone."
   ]
  },
  {
   "cell_type": "markdown",
   "metadata": {},
   "source": [
    "I shall also check if the embarkments also mattered in the decision of survivors."
   ]
  },
  {
   "cell_type": "code",
   "execution_count": 105,
   "metadata": {},
   "outputs": [
    {
     "name": "stdout",
     "output_type": "stream",
     "text": [
      "                 PassengerId  Survived  Name  Sex  Age  SibSp  Parch  Ticket  \\\n",
      "Pclass Embarked                                                                \n",
      "1      C                  85        85    85   85   85     85     85      85   \n",
      "       Q                   2         2     2    2    2      2      2       2   \n",
      "       S                 127       127   127  127  127    127    127     127   \n",
      "2      C                  17        17    17   17   17     17     17      17   \n",
      "       Q                   3         3     3    3    3      3      3       3   \n",
      "       S                 164       164   164  164  164    164    164     164   \n",
      "3      C                  66        66    66   66   66     66     66      66   \n",
      "       Q                  72        72    72   72   72     72     72      72   \n",
      "       S                 353       353   353  353  353    353    353     353   \n",
      "\n",
      "                 Fare  Cabin  PersonStatus  Solo_or_Fam  Solo_or_Family  \n",
      "Pclass Embarked                                                          \n",
      "1      C           85     66            85           85              85  \n",
      "       Q            2      2             2            2               2  \n",
      "       S          127    106           127          127             127  \n",
      "2      C           17      2            17           17              17  \n",
      "       Q            3      1             3            3               3  \n",
      "       S          164     13           164          164             164  \n",
      "3      C           66      1            66           66              66  \n",
      "       Q           72      1            72           72              72  \n",
      "       S          353     10           353          353             353  \n",
      "                 PassengerId  Survived        Age     SibSp     Parch  \\\n",
      "Pclass Embarked                                                         \n",
      "1      C          440.800000  0.694118  36.729412  0.376471  0.317647   \n",
      "       Q          329.500000  0.500000  38.500000  1.500000  0.000000   \n",
      "       S          477.842520  0.582677  36.633228  0.433071  0.393701   \n",
      "2      C          444.352941  0.529412  23.382353  0.588235  0.529412   \n",
      "       Q          418.000000  0.666667  38.333333  0.000000  0.000000   \n",
      "       S          446.634146  0.463415  30.270305  0.390244  0.371951   \n",
      "3      C          451.484848  0.378788  23.491212  0.348485  0.378788   \n",
      "       Q          420.347222  0.375000  27.312500  0.416667  0.180556   \n",
      "       S          440.685552  0.189802  26.107649  0.705382  0.439093   \n",
      "\n",
      "                       Fare  Solo_or_Fam  \n",
      "Pclass Embarked                           \n",
      "1      C         104.718529     0.694118  \n",
      "       Q          90.000000     1.500000  \n",
      "       S          70.364862     0.826772  \n",
      "2      C          25.358335     1.117647  \n",
      "       Q          12.350000     0.000000  \n",
      "       S          20.327439     0.762195  \n",
      "3      C          11.214083     0.727273  \n",
      "       Q          11.183393     0.597222  \n",
      "       S          14.644083     1.144476  \n"
     ]
    }
   ],
   "source": [
    "#Everything at a glance for embarkments by using mean and groupby functions\n",
    "\n",
    "Embarkment_grouping = Titanic_df.groupby(['Pclass','Embarked']).count()\n",
    "print(Embarkment_grouping)\n",
    "Embarkment_meangrouping = Titanic_df.groupby(['Pclass','Embarked']).mean()\n",
    "print(Embarkment_meangrouping)"
   ]
  },
  {
   "cell_type": "code",
   "execution_count": 106,
   "metadata": {},
   "outputs": [
    {
     "data": {
      "text/plain": [
       "<matplotlib.text.Text at 0x146890b8>"
      ]
     },
     "execution_count": 106,
     "metadata": {},
     "output_type": "execute_result"
    },
    {
     "data": {
      "image/png": "[encoded data removed]",
      "text/plain": [
       "<matplotlib.figure.Figure at 0x14d9ce80>"
      ]
     },
     "metadata": {},
     "output_type": "display_data"
    }
   ],
   "source": [
    "# To plot the graph between the count of passengers from the three embarkments for all the three classes\n",
    "g = sns.factorplot('Embarked', order=['C','Q','S'], data=Titanic_df, hue='Pclass', kind='count', hue_order=[1,2,3])\n",
    "g.set(xlabel='Embarkments', ylabel='Passengers count')\n",
    "plt.subplots_adjust(top=0.9)\n",
    "g.fig.suptitle('Passenger count from the three embarkments in all the three classes')"
   ]
  },
  {
   "cell_type": "code",
   "execution_count": 107,
   "metadata": {},
   "outputs": [
    {
     "data": {
      "text/plain": [
       "<matplotlib.text.Text at 0x148e9eb8>"
      ]
     },
     "execution_count": 107,
     "metadata": {},
     "output_type": "execute_result"
    },
    {
     "data": {
      "image/png": "[encoded data removed]",
      "text/plain": [
       "<matplotlib.figure.Figure at 0x13e7fb38>"
      ]
     },
     "metadata": {},
     "output_type": "display_data"
    }
   ],
   "source": [
    "# To plot the graph between the survival rate and the three embarkments\n",
    "g = sns.factorplot(\"Embarked\", \"Survived\", data=Titanic_df, kind =\"bar\", size=4)\n",
    "g.set(xlabel='Embarkments', ylabel='Survival')\n",
    "plt.subplots_adjust(top=0.9)\n",
    "g.fig.suptitle('Survival based on Embarkments')"
   ]
  },
  {
   "cell_type": "markdown",
   "metadata": {},
   "source": [
    "It looks like C had maximum number of survivors. But it is also possible that C had maximum no of class 1 passengers. The below graph will clarify that."
   ]
  },
  {
   "cell_type": "code",
   "execution_count": 111,
   "metadata": {},
   "outputs": [
    {
     "data": {
      "text/plain": [
       "<matplotlib.text.Text at 0x1804ba58>"
      ]
     },
     "execution_count": 111,
     "metadata": {},
     "output_type": "execute_result"
    },
    {
     "data": {
      "image/png": "[encoded data removed]",
      "text/plain": [
       "<matplotlib.figure.Figure at 0x178670f0>"
      ]
     },
     "metadata": {},
     "output_type": "display_data"
    }
   ],
   "source": [
    "# To plot the graph between the fare of passengers for all the three classes for all the three embarkments \n",
    "g = sns.factorplot(x=\"Pclass\", y=\"Fare\", col=\"Embarked\", data=Titanic_df, hue =\"Embarked\")\n",
    "g.set(xlabel='Class', ylabel='Fare')\n",
    "plt.subplots_adjust(top=0.8)\n",
    "g.fig.suptitle('Fare based on Embarkments for the three classes')\n",
    "\n",
    "\n"
   ]
  },
  {
   "cell_type": "markdown",
   "metadata": {},
   "source": [
    "As I was hoping for, the embarkments did not matter. The results were more bacuse of the fact that Embarkment C had max no of 1st class passengers."
   ]
  },
  {
   "cell_type": "markdown",
   "metadata": {},
   "source": [
    "Conclusion: The project investigates the stated question(s) from multiple angles. At least three variables(Sex,Age,Class) were investigated using both single-variable (1d) and multiple-variable (2d) explorations.And those three were important factors.\n",
    "The results indicate that class and sex were given prime importance, A women of 1st class had maximum chances of survival and a man of third class had the lowest. Age did not matter much. Women and children, across all classes, were given preference to men. Although there was no 100% guarantee of survival for anyone.\n",
    "Issues:\n",
    "The category of 'children' was assumed to be anyone under the age of 21.That could have also altered the results.Age data was missing and that could have skewed some numbers.\n"
   ]
  }
 ],
 "metadata": {
  "kernelspec": {
   "display_name": "Python 2",
   "language": "python",
   "name": "python2"
  },
  "language_info": {
   "codemirror_mode": {
    "name": "ipython",
    "version": 2
   },
   "file_extension": ".py",
   "mimetype": "text/x-python",
   "name": "python",
   "nbconvert_exporter": "python",
   "pygments_lexer": "ipython2",
   "version": "2.7.13"
  }
 },
 "nbformat": 4,
 "nbformat_minor": 2
}
